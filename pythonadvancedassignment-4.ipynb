{
 "cells": [
  {
   "cell_type": "markdown",
   "id": "ec7d7225",
   "metadata": {},
   "source": [
    "Q1. Which two operator overloading methods can you use in your classes to support iteration?\n",
    "\n",
    "Q2. In what contexts do the two operator overloading methods manage printing?\n",
    "\n",
    "Q3. In a class, how do you intercept slice operations?\n",
    "\n",
    "Q4. In a class, how do you capture in-place addition?\n",
    "\n",
    "Q5. When is it appropriate to use operator overloading?"
   ]
  },
  {
   "cell_type": "markdown",
   "id": "0f226a79",
   "metadata": {},
   "source": [
    "1.__str__,__add__ method is used to support iteration."
   ]
  },
  {
   "cell_type": "markdown",
   "id": "675b33c9",
   "metadata": {},
   "source": [
    "2."
   ]
  },
  {
   "cell_type": "markdown",
   "id": "f92ae591",
   "metadata": {},
   "source": [
    "3.In slice operation _getitem_ method is used ._getitem_(slice(start,end,step))"
   ]
  },
  {
   "cell_type": "markdown",
   "id": "83349d90",
   "metadata": {},
   "source": [
    "4.Tocapture inplace addition of a class, make a class and inside it implement a regular addition method and method for inplace addition inside a class.The method should return a new instance of the class with the result of the addition, while the method should modify the current instance and return it. Alternatively, you can use the in-place addition for your function."
   ]
  },
  {
   "cell_type": "markdown",
   "id": "57e2cd8a",
   "metadata": {},
   "source": [
    "5.It is appropriate to use operator overloading when we want to asssign extra task to the operator in addition to the built in task."
   ]
  }
 ],
 "metadata": {
  "kernelspec": {
   "display_name": "Python 3 (ipykernel)",
   "language": "python",
   "name": "python3"
  },
  "language_info": {
   "codemirror_mode": {
    "name": "ipython",
    "version": 3
   },
   "file_extension": ".py",
   "mimetype": "text/x-python",
   "name": "python",
   "nbconvert_exporter": "python",
   "pygments_lexer": "ipython3",
   "version": "3.9.12"
  }
 },
 "nbformat": 4,
 "nbformat_minor": 5
}
